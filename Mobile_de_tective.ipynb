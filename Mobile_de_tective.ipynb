{
 "cells": [
  {
   "cell_type": "markdown",
   "metadata": {},
   "source": [
    "# Mobile.de.tective"
   ]
  },
  {
   "cell_type": "markdown",
   "metadata": {},
   "source": [
    "## Python program za scrapanje podatkov oglasov z Mobile.de portala"
   ]
  },
  {
   "cell_type": "markdown",
   "metadata": {},
   "source": [
    "Ideja: vzeti URL oglasa, nato pa pobrati ven določene podatke in jih zapisati v datoteko. To je prva stopnja."
   ]
  },
  {
   "cell_type": "markdown",
   "metadata": {},
   "source": [
    "Za: mojo ženo, da jih prihranim malo rokomatike. :-)"
   ]
  },
  {
   "cell_type": "markdown",
   "metadata": {},
   "source": [
    "Opomba: mogoče ne bo delalo, I'm a noob."
   ]
  },
  {
   "cell_type": "code",
   "execution_count": 3,
   "metadata": {},
   "outputs": [
    {
     "name": "stdout",
     "output_type": "stream",
     "text": [
      "Mobile.de.tective\n",
      "\n",
      "Vnesi URL oglasa:\n"
     ]
    }
   ],
   "source": [
    "print('Mobile.de.tective')\n",
    "print('')\n",
    "print('Vnesi URL oglasa:')"
   ]
  },
  {
   "cell_type": "code",
   "execution_count": null,
   "metadata": {},
   "outputs": [],
   "source": []
  }
 ],
 "metadata": {
  "kernelspec": {
   "display_name": "Python 3",
   "language": "python",
   "name": "python3"
  },
  "language_info": {
   "codemirror_mode": {
    "name": "ipython",
    "version": 3
   },
   "file_extension": ".py",
   "mimetype": "text/x-python",
   "name": "python",
   "nbconvert_exporter": "python",
   "pygments_lexer": "ipython3",
   "version": "3.7.6"
  }
 },
 "nbformat": 4,
 "nbformat_minor": 4
}
