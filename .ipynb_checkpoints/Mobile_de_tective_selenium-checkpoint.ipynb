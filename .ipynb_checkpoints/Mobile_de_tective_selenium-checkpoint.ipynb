{
 "cells": [
  {
   "cell_type": "markdown",
   "metadata": {},
   "source": [
    "# Mobile_de_tective"
   ]
  },
  {
   "cell_type": "markdown",
   "metadata": {},
   "source": [
    "## V.2 - scrapanje z uporabo knjižnice Selenium"
   ]
  },
  {
   "cell_type": "code",
   "execution_count": 2,
   "metadata": {},
   "outputs": [],
   "source": [
    "#!pip install selenium"
   ]
  },
  {
   "cell_type": "code",
   "execution_count": null,
   "metadata": {},
   "outputs": [],
   "source": [
    "from selenium.common.exceptions import NoSuchElementException\n",
    "from selenium import webdriver\n",
    "from selenium.webdriver.common.by import By\n",
    "from selenium.webdriver.support.ui import WebDriverWait # to wait for element to load\n",
    "from selenium.webdriver.support import expected_conditions as EC # to wait for element to load\n",
    "\n",
    "\n",
    "\n",
    "\n",
    "if __name__ == \"__main__\":\n",
    "    print(\"Starting program\")\n",
    "\n",
    "    with webdriver.Chrome('C:\\\\Chromedriver\\\\chromedriver.exe') as driver: \n",
    "        # Vzpostavi povezavo do programa, ki bo procesiral html, css, js kodo (\"browser\")\n",
    "        driver.maximize_window()\n",
    "\n",
    "        url = \"https://www.mobile.de/\"\n",
    "        driver.get(url) # Opens browser and goes to specified URL\n",
    "\n",
    "        accept_cookies_button = driver.find_element_by_id(\"gdpr-consent-accept-button\")\n",
    "        accept_cookies_button.click()\n",
    "\n",
    "\n",
    "        search_form = driver.find_element_by_id('qs')\n",
    "        \n",
    "        categories = search_form.find_element_by_class_name(\"qs-categories\")\n",
    "        \n",
    "        a_cars = categories.find_element_by_id(\"qs-categories__CarsTab\")\n",
    "        a_motorbikes = categories.find_element_by_id(\"qs-categories__MotorbikesTab\")\n",
    "        a_motorhomes = categories.find_element_by_id(\"qs-categories__MotorhomesTab\")\n",
    "        a_trucks = categories.find_element_by_id(\"qs-categories__TrucksTab\")\n",
    "\n",
    "        price_until_elem = search_form.find_element_by_id(\"qsprc\")\n",
    "        print(\"Got the price until element.\")\n",
    "\n",
    "        print(\"Deciding on the price range.\")\n",
    "        price_until_elem.send_keys(\"12345\")\n",
    "\n",
    "        show_offers_button = search_form.find_element_by_id(\"qssub\")\n",
    "        #input(\"Press ENTER to press Show_Offers button.\")\n",
    "        show_offers_button.click()\n",
    "\n",
    "        adds = driver.find_elements_by_class_name(\"cBox-body\")\n",
    "        print(\"We found this many adds: \", len(adds))\n",
    "\n",
    "        # Parsing an add\n",
    "        for add in adds[:3]:\n",
    "            pass\n",
    "\n",
    "\n",
    "        input(\"Press enter to continue: \")"
   ]
  }
 ],
 "metadata": {
  "kernelspec": {
   "display_name": "Python 3",
   "language": "python",
   "name": "python3"
  },
  "language_info": {
   "codemirror_mode": {
    "name": "ipython",
    "version": 3
   },
   "file_extension": ".py",
   "mimetype": "text/x-python",
   "name": "python",
   "nbconvert_exporter": "python",
   "pygments_lexer": "ipython3",
   "version": "3.7.6"
  }
 },
 "nbformat": 4,
 "nbformat_minor": 4
}
